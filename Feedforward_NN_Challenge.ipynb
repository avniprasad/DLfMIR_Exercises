{
 "cells": [
  {
   "cell_type": "markdown",
   "metadata": {},
   "source": [
    "# Challenge: MIR with Feedforward Neural Networks #\n",
    "\n",
    "You will be assigned to a team of ~4 students. The goal is very straight forward:\n",
    "\n",
    "* Design the feedforwad Neural Network that achieves the best \"test\" performance on the Iowa Musical Instrument Samples and the GTZAN datasets.\n",
    "\n",
    "* We suggest that you use python and tensorflow, but if you have more experience using another toolbox or language, feel free to use anything.\n",
    "\n",
    "* Divide work among team members: \n",
    "    * Individuals train different models in parallel on their computers \n",
    "    * Continuously share results and progress with the team \n",
    "    * Always help each other\n",
    "    \n",
    "\n",
    "* In an email to the members of the teaching staff, submit your results as a jupyter notebook (or similar script) that clearly shows the architecture of the model, your training and cross-validation of hyperparameters, and the test accuracy.\n",
    "\n",
    "* NEVER use the test-set until you have finished tuning your hyper-parameters.\n",
    "\n",
    "* Although the model MUST BE a simple feedforward Neural Network, you may research about and use ways to improve these simple models. Some ideas include: dropout, regularization, momentum, and data augmentation, but there are many more. Always include clear comments in your code that indicate what you are doing, with links and references to original papers/websites/ideas.\n",
    "\n",
    "* The team achieving the best result will be pinned on r/DLfMIR.\n",
    "\n",
    "* You may continue submitting individual results even after the workshop is over. "
   ]
  }
 ],
 "metadata": {
  "kernelspec": {
   "display_name": "Python 2",
   "language": "python",
   "name": "python2"
  },
  "language_info": {
   "codemirror_mode": {
    "name": "ipython",
    "version": 2
   },
   "file_extension": ".py",
   "mimetype": "text/x-python",
   "name": "python",
   "nbconvert_exporter": "python",
   "pygments_lexer": "ipython2",
   "version": "2.7.13"
  }
 },
 "nbformat": 4,
 "nbformat_minor": 2
}

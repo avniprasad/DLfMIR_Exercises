{
 "cells": [
  {
   "cell_type": "markdown",
   "metadata": {
    "collapsed": true,
    "slideshow": {
     "slide_type": "slide"
    }
   },
   "source": [
    "# Feedforward Neural Networks #\n",
    "<img align=\"left\" src=\"https://upload.wikimedia.org/wikipedia/commons/thumb/4/46/Colored_neural_network.svg/300px-Colored_neural_network.svg.png\" />"
   ]
  },
  {
   "cell_type": "markdown",
   "metadata": {
    "slideshow": {
     "slide_type": "slide"
    }
   },
   "source": [
    "In a \"multidimensional\" space (like the 2-D space of the fake data we generated in Julia, or the larger space where the Iowa University Musical Instrument Samples live), one can find relationships between datapoints based on how close they are to each other. That is what the KNN algorithm did. \n",
    "\n",
    "However, one can also find relationships between these multidimensional datapoints/vectors using the mathematical operation known as the [inner product](https://www.mathsisfun.com/algebra/vectors-dot-product.html) [(see also the wikipedia article)](https://en.wikipedia.org/wiki/Dot_product). "
   ]
  },
  {
   "cell_type": "markdown",
   "metadata": {
    "slideshow": {
     "slide_type": "slide"
    }
   },
   "source": [
    "The picture bellow will help provide some intution:\n",
    "\n",
    "<img src=\"https://www.mathsisfun.com/algebra/images/dot-product-ex1.gif\"/>\n",
    "\n",
    "The picture shows two $\\mathbf{R^{1x2}}$ vectors: $$a = [-6, 8]$$ $$b = [5, 12]$$\n",
    "\n",
    "The inner product of these two vectors would be: $$a ~ b^T = (-6)(5) + (8)(12) = 66$$\n",
    "\n",
    "You can think of this value of $66$ as a score of the similarity between these two vectors. "
   ]
  },
  {
   "cell_type": "markdown",
   "metadata": {
    "slideshow": {
     "slide_type": "slide"
    }
   },
   "source": [
    "Now imagine that $a$ and $b$ were completely overlapping each other: $$$$$$a = [5, 12]$$ $$b = [5, 12]$$\n",
    "\n",
    "The inner product of these two vectors would be: $$a ~ b^T = (5)(5) + (12)(12) = 169$$\n",
    "\n",
    "When the two vertors perfectly overlap, you get a higher score, because they are \"more similar\", if not equal. \n",
    "\n",
    "Hence, this would be another way of telling whether two vectors in a high-dimensional space are similar to each other. "
   ]
  },
  {
   "cell_type": "markdown",
   "metadata": {
    "slideshow": {
     "slide_type": "slide"
    }
   },
   "source": [
    "So, imagine you have a dataset that looks like this one we used before:\n",
    "<img src=\"fake_data.png\" style=\"width: 360px\"/>\n",
    "You can imagine that, for each of the three colors of data, there is a vector that maximizes the inner product between itself and the majority (or all) of the datapoints of a given color. \n",
    "\n",
    "This vector would be an \"average\" or \"template\" approximation of all the datapoints sharing a common color."
   ]
  },
  {
   "cell_type": "markdown",
   "metadata": {
    "slideshow": {
     "slide_type": "slide"
    }
   },
   "source": [
    "So, let's think a bit more about the example data we just saw. \n",
    "\n",
    "There are three different colors, and each datapoint if two dimensional. \n",
    "\n",
    "This indicates that, using a training set, we could identify three $\\mathbf{R^{2x1}}$ \"average\" or \"template\" vectors, one for each color.\n",
    "\n",
    "After idetifying those, we can use them to identify the identify of new and unlabeled datapoints in the two-dimensional plane using a simple inner-product operation."
   ]
  },
  {
   "cell_type": "markdown",
   "metadata": {
    "slideshow": {
     "slide_type": "slide"
    }
   },
   "source": [
    "Identifying the identify of a novel unlabeled datapoint would be as follows:\n",
    "\n",
    "1. Assume we have \"template\" vectors $r$, $b$, and $g$ $\\in \\mathbf{R^{2x1}}$, one for each color of data. We also have an unknown datapoint $u \\in \\mathbf{R^{1x2}}$. \n",
    "\n",
    "2. To do everything in a single operation, concatenate vectors $r$, $b$, and $g$ next to each other, to obtain matrix $W \\in \\mathbf{R^{2x3}}$.\n",
    "\n",
    "3. Find the inner product $u ~W$, to obtain vector $s \\in \\mathbf{R^{1x3}}$, which contains the \"score\" of similarity between vector $u$ and each of the color vectors. \n",
    "\n",
    "4. Find the color that received the highest score, and voila!, we have identified the identity of unknown vector $u$."
   ]
  },
  {
   "cell_type": "markdown",
   "metadata": {
    "slideshow": {
     "slide_type": "slide"
    }
   },
   "source": [
    "You can imagine that, in practice, data can be so high-dimensional and complex, that finding the ideal \"template\" vectors is extremely difficult. \n",
    "\n",
    "Rule of thumb: the less data you have, the more difficult it is to find them. Why?\n",
    "\n",
    "Here is where Neural Networks come to save the day. In a nutshell, Neural Networks find the \"template\" vectors using the labeled training data that you give them. "
   ]
  },
  {
   "cell_type": "markdown",
   "metadata": {
    "slideshow": {
     "slide_type": "slide"
    }
   },
   "source": [
    "To better unsderstand the problem, think about the $W \\in \\mathbf{R^{2x3}}$ matrix as parameters of the mathematical function $$y ~= ~u ~W$$\n",
    "\n",
    "Where $u \\in \\mathbf{R^{1x2}}$ is an unknown datapoint, and the vector $y \\in \\mathbf{R^{1x3}}$ contains the \"score\" of similarity between vector $u$ and each of the color vectors. \n",
    "\n",
    "Now, instead of $u$, let's use a labeled datapoint $x \\in \\mathbf{R^{1x2}}$. Hence, we can make the mathematical function not just a function, but an \"objective\". What would the objective be?"
   ]
  },
  {
   "cell_type": "markdown",
   "metadata": {
    "slideshow": {
     "slide_type": "slide"
    }
   },
   "source": [
    "We can say that the objective is to make the score for the true color of $x$ to be as high as possibe \n",
    "\n",
    "$J = \\text{Maximize} \\{\\hat{y}_{correct}\\}$\n",
    "\n",
    "Where $\\hat{y}_{correct} \\in \\hat{y}$\n",
    "\n",
    "Thankfully, this is a mathematical function and, assuming it is differentiable, we can take the derivative of the objective w.r.t the parameters $W$ and \"ascend\" to a higher score for the correct label. "
   ]
  },
  {
   "cell_type": "markdown",
   "metadata": {
    "slideshow": {
     "slide_type": "slide"
    }
   },
   "source": [
    "Hence, we have:\n",
    "\n",
    "$\\frac{\\partial J}{\\partial W}$\n",
    "\n",
    "From here on, we use the chain rule to expand this expression into:\n",
    "\n",
    "$\\frac{\\partial J}{\\partial W} ~= \\big(~\\frac{\\partial \\hat{y}}{\\partial W}\\big)^T ~\\frac{\\partial J}{\\partial \\hat{y}} $\n",
    "\n",
    "Since the objective depends only on $\\hat{y}_{correct}$ (i.e. we only care about the score contained in $\\hat{y}_{correct}$), the derivative of $\\frac{\\partial J}{\\partial \\hat{y}} = $ ?\n"
   ]
  },
  {
   "cell_type": "markdown",
   "metadata": {
    "slideshow": {
     "slide_type": "slide"
    }
   },
   "source": [
    "The derivative of $\\frac{\\partial J}{\\partial \\hat{y}} = e_{correct}$\n",
    "\n",
    "where $e_{correct}$ is a \"one-hot\" vector in $\\mathbf{R^{1x3}}$. This means that all its entries are zero, except at the index that contained the score for the correct label in $\\hat{y}$, where it has a value of one.\n",
    "\n",
    "Hence, our expression is:\n",
    "\n",
    "$\\frac{\\partial J}{\\partial W} ~= ~\\big(\\frac{\\partial \\hat{y}}{\\partial W}\\big)^T ~e_{correct} ~= ~\\big(\\frac{\\partial xW}{\\partial W}\\big)^T ~e_{correct}  ~= ~x^T~e_{correct}$\n",
    "\n",
    "And an update step in the direction that maximizes the value of the objective function would be:\n",
    "\n",
    "$W := ~W + ~\\alpha~x^T~e_{correct}$\n",
    "\n",
    "Where $\\alpha$ is a tunable free parameter that would allow you to decide how much you want $\\frac{\\partial J}{\\partial W}$ to affect your $W$."
   ]
  },
  {
   "cell_type": "markdown",
   "metadata": {
    "slideshow": {
     "slide_type": "slide"
    }
   },
   "source": [
    "Intuitively, what is going on here?\n",
    "\n",
    "Discuss in a small group and prepare to share your thoughts with the class."
   ]
  },
  {
   "cell_type": "markdown",
   "metadata": {
    "slideshow": {
     "slide_type": "slide"
    }
   },
   "source": [
    "Now let's prove that all the math we just did can actually help a model maximize the score for the correct label of a datapoint.\n",
    "\n",
    "To do this, you will have to generate synthetic/fake data. This time, let's make our data be completely full of random numbers in the range from $0$ to $1$ (hint: you'll have to use the `rand` function). Let the parameters for data generation be the number of datapoints `N`, the dimensionality of your data `D`, and the number of classes `C`. Randomly assign labels to your datapoints. Store everything in a variable called `data` with dimensions `[N x (D+1)]`, where the rightmost column contains the labels for each the datapoints contained in each row. "
   ]
  },
  {
   "cell_type": "code",
   "execution_count": 1,
   "metadata": {
    "collapsed": true,
    "slideshow": {
     "slide_type": "slide"
    }
   },
   "outputs": [],
   "source": [
    "# [your code here:]\n",
    "\n"
   ]
  },
  {
   "cell_type": "markdown",
   "metadata": {
    "slideshow": {
     "slide_type": "slide"
    }
   },
   "source": [
    "Now, we will separate the data into training, validation, and test sets, just as we have done before (hint: you can reuse code)."
   ]
  },
  {
   "cell_type": "code",
   "execution_count": 2,
   "metadata": {
    "collapsed": true,
    "slideshow": {
     "slide_type": "slide"
    }
   },
   "outputs": [],
   "source": [
    "# [your code here:]\n"
   ]
  },
  {
   "cell_type": "markdown",
   "metadata": {
    "slideshow": {
     "slide_type": "slide"
    }
   },
   "source": [
    "Now, generate the trainable matrix `W` with random numbers centered around zero. What should its dimensions be?\n",
    "\n",
    "Iterate over each of the elements in the training set to apply the update $W := ~W + ~\\alpha~x^T~e_{correct}$ that we derived above. \n",
    "\n",
    "The goal is to show that the `W` matrix can be changed to maximize the scores for the few datapoints that you are training it with.\n",
    "\n",
    "If you are done ahead of everyone else. Can you think of a way to do this without a `for` loop? Implement it. "
   ]
  },
  {
   "cell_type": "code",
   "execution_count": 3,
   "metadata": {
    "collapsed": false,
    "slideshow": {
     "slide_type": "subslide"
    }
   },
   "outputs": [
    {
     "data": {
      "image/png": "[encoded data removed]",
      "text/plain": [
       "PyPlot.Figure(PyObject <matplotlib.figure.Figure object at 0x7fecd50d3750>)"
      ]
     },
     "metadata": {},
     "output_type": "display_data"
    },
    {
     "name": "stderr",
     "output_type": "stream",
     "text": [
      "WARNING: Method definition macroexpand(Module, Any) in module Compat at /home/juser/.julia/v0.5/Compat/src/Compat.jl:1491 overwritten in module MacroTools at /opt/julia_packages/.julia/v0.5/MacroTools/src/utils.jl:64.\n"
     ]
    }
   ],
   "source": [
    "# generate the W matrix\n",
    "# [your code here:]\n",
    "# the W matrix\n",
    "\n",
    "\n",
    "# iterate over the datapoints in the training set and update the values in the W matrix using the methods we discussed. The reshape function will be helpfull to make sure that the size of your arrays is appropriate for matrix multiplication. Print (or store in a variable to plot later) the objective at each iteration to show that it is moving in the right direction. For now, you can assume that the tunable parameter alpha is equal to 1.\n",
    "# [your code here:]\n",
    "J = zeros(size(x_tr)[1],1)\n",
    "\n",
    "using PyPlot\n",
    "plot(J)"
   ]
  },
  {
   "cell_type": "markdown",
   "metadata": {
    "slideshow": {
     "slide_type": "slide"
    }
   },
   "source": [
    "What did you notice? \n",
    "\n",
    "What are limitations that make this a bad way to make a Neural Network Learn?\n",
    "\n",
    "Highlight observation in a group and be prepared to share with the class. "
   ]
  },
  {
   "cell_type": "markdown",
   "metadata": {
    "slideshow": {
     "slide_type": "slide"
    }
   },
   "source": [
    "A major limitation with the method described so far is the objective function. \n",
    "\n",
    "Just think about it! The score could continue growing forever, so the learning process would never end.\n",
    "\n",
    "We need to come up with a better objective function. \n",
    "\n",
    "How could we change our current objective function $J = \\text{Maximize} \\{\\hat{y}_{correct} ~= ~x ~W\\}$ to make it have an upper bound?"
   ]
  },
  {
   "cell_type": "markdown",
   "metadata": {
    "slideshow": {
     "slide_type": "slide"
    }
   },
   "source": [
    "A simple manipulation would be to change the objective function to be:\n",
    "\n",
    "$J = \\text{Maximize} \\bigg\\{\\hat{y}_{correct}\\bigg\\}$\n",
    "\n",
    "Why?"
   ]
  },
  {
   "cell_type": "markdown",
   "metadata": {
    "slideshow": {
     "slide_type": "slide"
    }
   },
   "source": [
    "We now use the chain rule to differentiate the expression w.r.t the \"trainable\" parameters $W$: \n",
    "\n",
    "$\\frac{\\partial J}{\\partial W} ~= ~\\frac{\\partial J}{\\partial \\hat{y}} ~\\frac{\\partial \\hat{y}}{\\partial W}$\n",
    "\n",
    "$\\frac{\\partial J}{\\partial W} ~= ~\\big(\\frac{\\partial ~x ~W}{\\partial W}\\big)^T~\\frac{\\partial J}{\\partial \\hat{y}} ~\\frac{\\partial ~\\hat{y}}{\\partial ~x ~W}$\n",
    "\n",
    "$\\frac{\\partial J}{\\partial W} ~= ~\\big(\\frac{\\partial ~x ~W}{\\partial W}\\big)^T~\\frac{\\partial J}{\\partial \\hat{y}} ~\\frac{\\partial ~\\frac{~x ~W}{\\sum_{i}~x ~W}}{\\partial ~x ~W} $\n",
    "\n",
    "We already know that $\\frac{\\partial J}{\\partial \\hat{y}} = e_{correct}$"
   ]
  },
  {
   "cell_type": "markdown",
   "metadata": {
    "slideshow": {
     "slide_type": "slide"
    }
   },
   "source": [
    "\n",
    "To find $\\frac{\\partial ~\\frac{~x ~W}{\\sum_{i}~x ~W}}{\\partial ~x ~W}$, let's define $s = ~x ~W$, where $s$ is short for \"scores\". We will have to find the jacobian matrix:\n",
    "\n",
    "$$ \\frac{\\partial ~\\hat{y}}{\\partial ~x ~W} = ~\\frac{\\partial ~\\frac{s}{\\sum_{i}~s}}{\\partial ~s} = ~\\frac{\\partial ~\\frac{~x ~W}{\\sum_{i}~x ~W}}{\\partial ~x ~W} = ~\\begin{bmatrix} \\frac{\\partial \\hat{y}_1}{\\partial s_1} & \\frac{\\partial \\hat{y}_1}{\\partial s_2} & \\dots & \\frac{\\partial \\hat{y}_1}{\\partial s_n} \\\\ \\frac{\\partial \\hat{y}_2}{\\partial s_1} & \\frac{\\partial \\hat{y}_2}{\\partial s_2}& \\dots & \\vdots \\\\ \n",
    "\\vdots & \\vdots & \\ddots & \\vdots\\\\\n",
    "\\frac{\\partial \\hat{y}_n}{\\partial s_1} & \\frac{\\partial \\hat{y}_n}{\\partial s_2} & \\dots & \\frac{\\partial \\hat{y}_n}{\\partial s_n} \\end{bmatrix}$$"
   ]
  },
  {
   "cell_type": "markdown",
   "metadata": {
    "slideshow": {
     "slide_type": "slide"
    }
   },
   "source": [
    "At this point we recognize that the Jacobian matrix $\\frac{\\partial ~\\hat{y}}{\\partial ~x ~W}$ will be multiplied by the one-hot vector $e_{correct}$ by the inner product. This will zero out all entries in the Jacobian except: \n",
    "\n",
    "$$e_{correct} \\frac{\\partial ~\\hat{y}}{\\partial ~x ~W} = ~\\begin{bmatrix} \\frac{\\partial \\hat{y}_{correct}}{\\partial s_1} & \\frac{\\partial \\hat{y}_{correct}}{\\partial s_2} & \\dots & \\frac{\\partial \\hat{y}_{correct}}{\\partial s_n} \\end{bmatrix}$$\n",
    "\n",
    "And we also observe that:\n",
    "\n",
    "$$~i = j \\rightarrow ~\\frac{\\partial \\hat{y}_i}{\\partial s_j} = \\frac{\\sum_{i\\neq j} s}{(\\sum s)^2}$$\n",
    "\n",
    "$$~i \\neq j \\rightarrow ~\\frac{\\partial \\hat{y}_i}{\\partial s_j} = -~\\frac{s_i}{(\\sum s)^2} = -~\\frac{\\hat{y}_i}{\\sum s}$$"
   ]
  },
  {
   "cell_type": "markdown",
   "metadata": {
    "slideshow": {
     "slide_type": "slide"
    }
   },
   "source": [
    "So, to summarize, let's remember:\n",
    "\n",
    "$\\frac{\\partial J}{\\partial W} ~= ~\\big(\\frac{\\partial ~x ~W}{\\partial W}\\big)^T~\\frac{\\partial J}{\\partial \\hat{y}} ~\\frac{\\partial ~\\frac{~x ~W}{\\sum_{i}~x ~W}}{\\partial ~x ~W} $\n",
    "\n",
    "But knowing that $~\\frac{\\partial J}{\\partial \\hat{y}} ~\\frac{\\partial ~\\frac{~x ~W}{\\sum_{i}~x ~W}}{\\partial ~x ~W} = ~\\frac{\\partial J}{\\partial s}$ we can now rewrite everything as:\n",
    "\n",
    "$\\frac{\\partial J}{\\partial W} ~= ~\\big(\\frac{\\partial ~x ~W}{\\partial W}\\big)^T ~\\frac{\\partial J}{\\partial s} $"
   ]
  },
  {
   "cell_type": "markdown",
   "metadata": {
    "slideshow": {
     "slide_type": "slide"
    }
   },
   "source": [
    "Modify your previous program so that this time the objective function is: $$J = \\text{Maximize} \\bigg\\{\\hat{y}_{correct}\\bigg\\}$$\n",
    "\n",
    "And the update step in the direction that maximizes the value of the objective function is:\n",
    "\n",
    "$W := ~W + ~\\alpha~\\frac{\\partial J}{\\partial W}$\n",
    "\n",
    "This time, initialization of `W` must consist of exclusively of positive numbers. Why?\n",
    "\n",
    "Experiment with changing the $\\alpha$ parameter. Hint: you may have to do more than one pass through the training data in order for \"learning\" to take place.\n",
    "\n",
    "Do you foresee major caveats?"
   ]
  },
  {
   "cell_type": "code",
   "execution_count": 39,
   "metadata": {
    "collapsed": false,
    "slideshow": {
     "slide_type": "slide"
    }
   },
   "outputs": [
    {
     "data": {
      "image/png": "[encoded data removed]",
      "text/plain": [
       "PyPlot.Figure(PyObject <matplotlib.figure.Figure object at 0x7feca9dc8390>)"
      ]
     },
     "metadata": {},
     "output_type": "display_data"
    },
    {
     "data": {
      "text/plain": [
       "1-element Array{Any,1}:\n",
       " PyObject <matplotlib.lines.Line2D object at 0x7feca9dc2810>"
      ]
     },
     "execution_count": 39,
     "metadata": {},
     "output_type": "execute_result"
    }
   ],
   "source": [
    "# [your code here:]\n"
   ]
  },
  {
   "cell_type": "markdown",
   "metadata": {
    "slideshow": {
     "slide_type": "slide"
    }
   },
   "source": [
    "Make Julia print the `W` and the `dJ_dW` matrices at every iteration. What did you notice? Could something go wrong?\n",
    "\n",
    "What makes this a good/bad/better/worse way to make a Neural Network Learn?\n",
    "\n",
    "Highlight observation in with a group of classmates and be prepared to share with the class. "
   ]
  },
  {
   "cell_type": "markdown",
   "metadata": {
    "collapsed": true,
    "slideshow": {
     "slide_type": "slide"
    }
   },
   "source": [
    "The objective function we described previously will return meaningless values when the $W := ~W + ~\\alpha~\\frac{\\partial J}{\\partial W}$ update introduces negative values to the $W$ matrix. \n",
    "\n",
    "Thankfully, there is are better objective functions to choose. In fact, no one uses the ones we have derived so far (they were just intended as examples to build up intuition from the ground up).\n",
    "\n",
    "An objective function that is prefered to train Neural Networks is called the $softmax()$ function. \n",
    "\n",
    "In spirit $softmax()$ is similar to the objective function $J = \\text{Maximize} \\bigg\\{\\hat{y}_{correct}\\bigg\\}$, but making it bullet-proof to negative numbers.\n",
    "\n",
    "Before we dive into $softmax()$ though, let's summarize the elements components of a Neural Network we have studied so far."
   ]
  },
  {
   "cell_type": "markdown",
   "metadata": {
    "slideshow": {
     "slide_type": "slide"
    }
   },
   "source": [
    "A simple and generalized Feedforward Neural Netowrk is described by the expression:\n",
    "\n",
    "$$J = Objective \\big\\{\\hat{y} = ~f(x~W)\\big\\}$$\n",
    "\n",
    "* Where $x$ contains a fixed datapoint\n",
    "* $W$ contains the trainable parameters\n",
    "* $f()$ is the function setting an upper bound to the scores obtained from the inner product between $x~W$\n",
    "* and the $Objective \\{\\}$ determines what we want to maximize (or maybe redude)."
   ]
  },
  {
   "cell_type": "markdown",
   "metadata": {
    "slideshow": {
     "slide_type": "slide"
    }
   },
   "source": [
    "Out of the four elements we have been using so far, we can change two to significantly improve the performance of our neural network.\n",
    "\n",
    "Lets start picking a better function $f()$:\n",
    "$$softmax(\\theta) = \\frac{e^\\theta}{\\sum e^\\theta}$$\n",
    "Here, $\\theta \\in \\mathbf{R^{1xC}}$ is our vector of \"scores\" for each class.\n",
    "\n",
    "If you think about it, by raising $e$ to the power of our \"scores\" vector we make sure that $\\hat{y}$ will never have negative values. \n",
    "\n",
    "Whenever the \"scores\" vector contains negative values, raising e to the power of any real number we will obtain a positive value. \n",
    "\n",
    "Even $e^{-\\infty} = 0$ is a positive number (if you consider $0$ a positive number), but in practive we will never run into this situation.\n"
   ]
  },
  {
   "cell_type": "markdown",
   "metadata": {
    "slideshow": {
     "slide_type": "slide"
    }
   },
   "source": [
    "$$softmax(\\theta) = \\frac{e^\\theta}{\\sum e^\\theta}$$\n",
    "\n",
    "Another great important thing about softmax is that, by dividing $\\frac{e^\\theta}{\\sum e^\\theta}$ the $\\hat{y}$ vector we will only contain numbers between $0$ and $1$, and when they will add up to $1$, always. \n",
    "\n",
    "Finally, the function $e^{\\theta}$ is a non-linear function and, as you will see, non-linearities are crucial for Neural Networks to have the learning powers that they so well known for. "
   ]
  },
  {
   "cell_type": "markdown",
   "metadata": {
    "slideshow": {
     "slide_type": "slide"
    }
   },
   "source": [
    "So that gets us through one of the things we will adapt. From now on $\\hat{y} = f(x~W) =  softmax(x~W) = \\frac{e^{x~W}}{\\sum e^{x~W}}$\n",
    "\n",
    "The other thing we will adjust is the Objective function. So far, we can say that the objective function was defined as:\n",
    "\n",
    "$$Objective\\{\\hat{y}\\} = maximize\\{\\hat{y}_{correct}\\}$$\n",
    "\n",
    "But there is a better objective function, and in fact it is one that goes very \"hand in hand\" with $softmax()$."
   ]
  },
  {
   "cell_type": "markdown",
   "metadata": {
    "slideshow": {
     "slide_type": "slide"
    }
   },
   "source": [
    "The objective function we will use is the [cross entropy](https://en.wikipedia.org/wiki/Cross_entropy), which is defined as:\n",
    "\n",
    "$$J = minimize\\{-log(\\hat{y}_{correct})\\}$$\n",
    "\n",
    "Intuitively, this function also aims at maximizing the value of $\\hat{y}_{correct}$, because if $\\hat{y}_{correct}$ were to reach its theoretical maximum possible value (which is $1$, but in practice it will not reach it), the value of $J$ would be $$J = -\\log(\\hat{y}_{correct}) = -\\log(1) = 0$$\n",
    "\n",
    "On the contrary, when $\\hat{y}_{correct}$ contains its theoretically lowest possible value $0$, the result is: $$J = -\\log(\\hat{y}_{correct}) = -\\log(0) = \\infty$$"
   ]
  },
  {
   "cell_type": "markdown",
   "metadata": {
    "slideshow": {
     "slide_type": "slide"
    }
   },
   "source": [
    "So $\\frac{\\partial J }{\\partial W}$ will now be:\n",
    "\n",
    "$\\frac{\\partial J }{\\partial W} = ~\\big(\\frac{\\partial ~x ~W}{\\partial W}\\big)^T~\\frac{\\partial J}{\\partial \\hat{y}} ~\\frac{\\partial \\hat{y}}{\\partial ~x ~W}$\n",
    "\n",
    "Where: \n",
    "$$~\\frac{\\partial J}{\\partial \\hat{y}}~\\frac{\\partial \\hat{y}}{\\partial ~x ~W} = \\hat{y} - e_{correct}$$\n",
    "\n",
    "If you are courious about why this is true, try proving it your self, or visit [this website](http://peterroelants.github.io/posts/neural_network_implementation_intermezzo02/)"
   ]
  },
  {
   "cell_type": "markdown",
   "metadata": {
    "slideshow": {
     "slide_type": "slide"
    }
   },
   "source": [
    "Modify your previous program so that this time the objective function is: \n",
    "\n",
    "$$J = minimize\\{-log(\\hat{y}_{correct})\\}$$\n",
    "\n",
    "And the update step in the direction that maximizes the value of the objective function is:\n",
    "\n",
    "$W := ~W - ~\\alpha~\\frac{\\partial J}{\\partial W}$\n",
    "\n",
    "Why do we use a negative sign this time?\n",
    "\n",
    "[Gradient Descent](https://en.wikipedia.org/wiki/Gradient_descent)\n",
    "\n",
    "Experiment with changing the $\\alpha$ parameter."
   ]
  },
  {
   "cell_type": "code",
   "execution_count": 46,
   "metadata": {
    "collapsed": false,
    "slideshow": {
     "slide_type": "slide"
    }
   },
   "outputs": [
    {
     "data": {
      "image/png": "[encoded data removed]",
      "text/plain": [
       "PyPlot.Figure(PyObject <matplotlib.figure.Figure object at 0x7feca99104d0>)"
      ]
     },
     "metadata": {},
     "output_type": "display_data"
    },
    {
     "data": {
      "text/plain": [
       "1-element Array{Any,1}:\n",
       " PyObject <matplotlib.lines.Line2D object at 0x7feca9758710>"
      ]
     },
     "execution_count": 46,
     "metadata": {},
     "output_type": "execute_result"
    }
   ],
   "source": [
    "# [your code here:]\n"
   ]
  },
  {
   "cell_type": "markdown",
   "metadata": {
    "slideshow": {
     "slide_type": "slide"
    }
   },
   "source": [
    "What did you notice?\n",
    "\n",
    "What makes this a good/bad/better/worse way to make a Neural Network Learn?\n",
    "\n",
    "Highlight observation in with a group of classmates and be prepared to share with the class. "
   ]
  },
  {
   "cell_type": "markdown",
   "metadata": {
    "slideshow": {
     "slide_type": "slide"
    }
   },
   "source": [
    "The last model we developed is known as a \"softmax\" classifier. \n",
    "\n",
    "Softmax, although very similar to a Neural Network, is missing the \"hidden layers\" that are usually associated with Neural Network architectures.\n",
    "\n",
    "In the next part we add hidden layers to the Softmax classifier to formally have a Neural Network."
   ]
  }
 ],
 "metadata": {
  "celltoolbar": "Slideshow",
  "kernelspec": {
   "display_name": "Julia 0.5.2",
   "language": "julia",
   "name": "julia-0.5"
  },
  "language_info": {
   "file_extension": ".jl",
   "mimetype": "application/julia",
   "name": "julia",
   "version": "0.5.2"
  }
 },
 "nbformat": 4,
 "nbformat_minor": 2
}

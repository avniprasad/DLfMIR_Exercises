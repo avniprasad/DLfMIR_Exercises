{
 "cells": [
  {
   "cell_type": "markdown",
   "metadata": {
    "slideshow": {
     "slide_type": "slide"
    }
   },
   "source": [
    "# Recurrent Neural Networks #\n",
    "\n",
    "When we studied word2vec, we used sequential data to make a network learn relationships between an input and its sorrounding context. \n",
    "\n",
    "The next logical step would be to make a network learn not just the context, but perhaps an long with $T$ elements. This is what Recurrent Neural Networks (RNNs) do."
   ]
  },
  {
   "cell_type": "markdown",
   "metadata": {
    "slideshow": {
     "slide_type": "slide"
    }
   },
   "source": [
    "The general expression describing the forward pass of a simple RNN is:\n",
    "\n",
    "$$\\hat{y}_t = softmax\\big(~h_t~W^{(o)}\\big)$$\n",
    "\n",
    "where $t$ indicates the time-step we are currently evaluating, and where $h$ represents the hidden state at time $t$ given by:\n",
    "\n",
    "$$h = f(~x_t~W^{(i)} ~+~h_{t-1}W^{(h)})$$\n",
    "\n",
    "where $f()$ is an arbitrary non-linear function."
   ]
  },
  {
   "cell_type": "markdown",
   "metadata": {
    "slideshow": {
     "slide_type": "slide"
    }
   },
   "source": [
    "Observing the math for the forward pass, you can see that an RNN is very similar to the feedforward neural networks we have been studying so far. \n",
    "\n",
    "However, one major difference is:\n",
    "\n",
    "* a new $W^{(h)}$ that we use to pass information about the hidden state at time-step to the current time-step. \n",
    "\n",
    "What dimension does $W^{(h)}$ have to be?"
   ]
  },
  {
   "cell_type": "markdown",
   "metadata": {
    "slideshow": {
     "slide_type": "slide"
    }
   },
   "source": [
    "Another difference is the cost function that we need to use:\n",
    "\n",
    "$$J = \\sum_t -\\log(\\hat{y}_{t~correct})$$"
   ]
  },
  {
   "cell_type": "raw",
   "metadata": {
    "slideshow": {
     "slide_type": "slide"
    }
   },
   "source": [
    "Next, we will re-use the text data and the word embeddings that we used in word2vec in order to train an RNN. The next cells prepare the data for you:"
   ]
  },
  {
   "cell_type": "code",
   "execution_count": 21,
   "metadata": {
    "collapsed": false,
    "slideshow": {
     "slide_type": "slide"
    }
   },
   "outputs": [
    {
     "name": "stdout",
     "output_type": "stream",
     "text": [
      "<start> I got idea man You take me for a walk Under the sycamore trees the dark trees that blow baby In the dark trees that blow <end> "
     ]
    }
   ],
   "source": [
    "# vocabulary size\n",
    "V = 21\n",
    "\n",
    "word_to_i = Dict(\"I\" => 0, \"got\" => 1, \"idea\" => 2, \"man\" => 3, \"You\" => 4, \"take\" => 5, \"me\" => 6, \"for\" => 7, \"a\" => 8, \"walk\" => 9, \"Under\" => 10, \"the\" => 11, \"sycamore\" => 12, \"trees\" => 13, \"dark\" => 14, \"that\" => 15, \"blow\" => 16, \"baby\" => 17, \"In\" => 18, \"<end>\" => 19, \"<start>\" => 20)\n",
    "\n",
    "i_to_word = Dict( 0 => \"I\", 1=> \"got\", 2 => \"idea\", 3 => \"man\", 4 => \"You\", 5=> \"take\", 6 => \"me\", 7 => \"for\", 8=> \"a\", 9 => \"walk\", 10 => \"Under\", 11 => \"the\", 12 => \"sycamore\", 13 =>\"trees\", 14=> \"dark\", 15 => \"that\", 16 => \"blow\", 17 => \"baby\",18 =>\"In\", 19 => \"<end>\", 20 => \"<start>\")\n",
    "\n",
    "verse = [20,0,1,2,3,4,5,6,7,8,9,10,11,12,13,11,14,13,15,16,17,18,11,14,13,15,16,19];\n",
    "\n",
    "# let's see the verse\n",
    "for i = 1:size(verse)[1]\n",
    "    print(i_to_word[verse[i]], \" \")\n",
    "end\n",
    "\n",
    "# correct for the base one indexing\n",
    "verse = verse + 1 \n",
    "\n",
    "# now generate the x matrix\n",
    "x = zeros(size(verse)[1], V)\n",
    "for i=1:size(verse)[1]\n",
    "   x[i,verse[i]] = 1\n",
    "end\n",
    "\n",
    "# now generate the y vector\n",
    "y = verse;"
   ]
  },
  {
   "cell_type": "code",
   "execution_count": 22,
   "metadata": {
    "collapsed": false,
    "slideshow": {
     "slide_type": "slide"
    }
   },
   "outputs": [
    {
     "data": {
      "image/png": "[encoded data removed]",
      "text/plain": [
       "PyPlot.Figure(PyObject <matplotlib.figure.Figure object at 0x7ff105261750>)"
      ]
     },
     "metadata": {},
     "output_type": "display_data"
    },
    {
     "name": "stderr",
     "output_type": "stream",
     "text": [
      "WARNING: Method definition macroexpand(Module, Any) in module Compat at /home/juser/.julia/v0.5/Compat/src/Compat.jl:1491 overwritten in module MacroTools at /opt/julia_packages/.julia/v0.5/MacroTools/src/utils.jl:64.\n"
     ]
    },
    {
     "data": {
      "text/plain": [
       "1-element Array{Any,1}:\n",
       " PyObject <matplotlib.lines.Line2D object at 0x7ff0dcfe1450>"
      ]
     },
     "execution_count": 22,
     "metadata": {},
     "output_type": "execute_result"
    }
   ],
   "source": [
    "x_tr = x\n",
    "y_tr = y\n",
    "D = V\n",
    "C = V\n",
    "\n",
    "# hyperparameter alpha\n",
    "a = 0.0002\n",
    "# the number of hidden layers\n",
    "H = 2\n",
    "\n",
    "# the W matrix\n",
    "W_h = (rand(D,H)*0.001);\n",
    "W_o = (rand(H,C)*0.001);\n",
    "nepochs = 20000\n",
    "J = zeros(nepochs*(size(x_tr)[1]-2),1)\n",
    "J_i = 1\n",
    "for ep=0:nepochs-1\n",
    "\n",
    "    for t=2:size(x_tr)[1]-1\n",
    "\n",
    "        # forward pass (without non-linearity into the hidden layer)\n",
    "        h = *(reshape(x_tr[t,:],1,D),W_h)\n",
    "        scores = *(reshape(h,1,H),W_o)\n",
    "        probs = exp(scores)./sum(exp(scores))\n",
    "\n",
    "        # objective \n",
    "        J[floor(Int,J_i),1] = -log(probs[1,floor(Int,y_tr[t-1])]*probs[1,floor(Int,y_tr[t+1])])\n",
    "        J_i +=1\n",
    "        \n",
    "        # backward pass\n",
    "        dJ_dscores = 2*probs # times two, because we are looking a word before and a word after \n",
    "        dJ_dscores[1,floor(Int,y_tr[t-1])] -= 1\n",
    "        dJ_dscores[1,floor(Int,y_tr[t+1])] -= 1                \n",
    "        \n",
    "        # (without non-linearity back to the hidden layer)\n",
    "        dJ_dW_o = *(h',dJ_dscores)        \n",
    "        dJ_dW_h = *(reshape(x_tr[t,:],1,D)',(*(dJ_dscores,W_o')))\n",
    "\n",
    "        W_h -= a*dJ_dW_h;\n",
    "        W_o -= a*dJ_dW_o;        \n",
    "\n",
    "    end\n",
    "end\n",
    "using PyPlot\n",
    "plot(J)"
   ]
  },
  {
   "cell_type": "code",
   "execution_count": 23,
   "metadata": {
    "collapsed": false,
    "slideshow": {
     "slide_type": "slide"
    }
   },
   "outputs": [
    {
     "data": {
      "image/png": "[encoded data removed]",
      "text/plain": [
       "PyPlot.Figure(PyObject <matplotlib.figure.Figure object at 0x7ff0dc74cc10>)"
      ]
     },
     "metadata": {},
     "output_type": "display_data"
    }
   ],
   "source": [
    "# this should generate a plot of your word_embeddings\n",
    "\n",
    "using PyPlot\n",
    "\n",
    "for i=1:V-1\n",
    "    scatter(W_h[i,1], W_h[i,2])\n",
    "    annotate(i_to_word[i-1],(W_h[i,1], W_h[i,2]))\n",
    "end"
   ]
  },
  {
   "cell_type": "code",
   "execution_count": 24,
   "metadata": {
    "collapsed": false,
    "slideshow": {
     "slide_type": "slide"
    }
   },
   "outputs": [],
   "source": [
    "# now we redefine the x data matrix with the embeddings\n",
    "W_embeddings = W_h\n",
    "D = 2\n",
    "N = size(verse)[1]\n",
    "\n",
    "x = zeros(N,2)\n",
    "for i=1:N\n",
    "   \n",
    "    x[i,:] = W_embeddings[verse[i],:]\n",
    "    \n",
    "end\n",
    "\n",
    "# the y vector can stay the same"
   ]
  },
  {
   "cell_type": "markdown",
   "metadata": {
    "slideshow": {
     "slide_type": "slide"
    }
   },
   "source": [
    "The data hence looks as follows:\n",
    "\n",
    "* an x matrix (containing the datapoints) of size [N x D]\n",
    "* a y vector containing the \"one-hot\" index of the correct label for each row in x"
   ]
  },
  {
   "cell_type": "markdown",
   "metadata": {
    "slideshow": {
     "slide_type": "slide"
    }
   },
   "source": [
    "In the next cell, initialize your $W^{(i)}$, $W^{(h)}$, $W^{(o)}$ matrices with random numbers, and carry out the forward pass of the RNN for the entire verse (stop once you have a loss calculated). \n",
    "\n",
    "The goal is to correctly classify the input word at each time-step.\n",
    "\n",
    "You will also have to initialize the $h$ state before the network gets any inputs. It is common practice to initialize this hidden state using zeros"
   ]
  },
  {
   "cell_type": "code",
   "execution_count": 49,
   "metadata": {
    "collapsed": false,
    "slideshow": {
     "slide_type": "slide"
    }
   },
   "outputs": [
    {
     "data": {
      "text/plain": [
       "3.4822581402664587"
      ]
     },
     "execution_count": 49,
     "metadata": {},
     "output_type": "execute_result"
    }
   ],
   "source": [
    "# [your code here:]\n",
    "H = 10"
   ]
  },
  {
   "cell_type": "markdown",
   "metadata": {
    "slideshow": {
     "slide_type": "slide"
    }
   },
   "source": [
    "Believe it or not, this is already a generative model (perhaps a really crappy one). The following cell should be able to use your neurons in $W^{(i)}$, $W^{(h)}$, $W^{(o)}$ and generate new text after we initialize the network with the words: \"The dark trees\""
   ]
  },
  {
   "cell_type": "code",
   "execution_count": 64,
   "metadata": {
    "collapsed": false,
    "slideshow": {
     "slide_type": "slide"
    }
   },
   "outputs": [
    {
     "name": "stdout",
     "output_type": "stream",
     "text": [
      "man blow blow blow blow blow blow blow blow blow "
     ]
    }
   ],
   "source": [
    "tickle_indices = [word_to_i[\"I\"],word_to_i[\"got\"]] + 1\n",
    "# using the word embeddings\n",
    "tickles = zeros(size(tickle_indices)[1],D)\n",
    "for i=1:size(tickle_indices)[1]\n",
    "    \n",
    "    tickles[i,:] = W_embeddings[floor(Int,tickle_indices[i]),:]\n",
    "    \n",
    "end\n",
    "\n",
    "# desired total length of sentence generated:\n",
    "S_length = 10\n",
    "\n",
    "# initialize hidden state\n",
    "h_prev = zeros(1,size(W_h)[1])\n",
    "\n",
    "# this loop tickles the RNN\n",
    "sentence = zeros(S_length, 1)\n",
    "for t = 1:size(tickle_indices)[1]\n",
    "    \n",
    "    h_now = tanh(reshape(tickles[t,:],1,D) * W_i + h_prev * W_h)\n",
    "    scores = h_now * W_o\n",
    "    y_hat = exp(scores)./sum(exp(scores))\n",
    "    mxval, mxindx = findmax(y_hat)\n",
    "    sentence[t,1] = mxindx\n",
    "    \n",
    "    h_prev = h_now\n",
    "end\n",
    "\n",
    "# this loop keeps the RNN going even after the tickles have ended\n",
    "for t = size(tickles)[1]:S_length\n",
    "    \n",
    "    h_now = tanh(h_prev * W_h)\n",
    "    scores = h_now * W_o\n",
    "    y_hat = exp(scores)./sum(exp(scores))\n",
    "    mxval, mxindx = findmax(y_hat)\n",
    "    sentence[t,1] = mxindx\n",
    "    \n",
    "    h_prev = h_now\n",
    "end\n",
    "\n",
    "# this loops turns the indices stored in the \"sentence\" array into human-readable words\n",
    "for t=1:S_length\n",
    "\n",
    "    print(i_to_word[sentence[t]-1])\n",
    "    print(' ')\n",
    "    \n",
    "end"
   ]
  },
  {
   "cell_type": "markdown",
   "metadata": {
    "slideshow": {
     "slide_type": "slide"
    }
   },
   "source": [
    "As you can tell, the model is really bad. In order to improve it we will need to backpropragate the error associated with the cost function w.r.t learnable parameters:\n",
    "\n",
    "$$J = \\sum_t J_t = \\sum_t -\\log(\\hat{y}_{t~correct})$$\n",
    "\n",
    "$$\\frac{\\partial J}{\\partial W^{(i)}}$$\n",
    "\n",
    "$$\\frac{\\partial J}{\\partial W^{(h)}}$$\n",
    "\n",
    "$$\\frac{\\partial J}{\\partial W^{(o)}}$$"
   ]
  },
  {
   "cell_type": "markdown",
   "metadata": {
    "slideshow": {
     "slide_type": "slide"
    }
   },
   "source": [
    "Let's start with $\\frac{\\partial J}{\\partial W^{(o)}}$. For this example, assume $T = 3$. Hence we have:\n",
    "\n",
    "$\\frac{\\partial J}{\\partial W^{(o)}} = \\sum_t^3 \\frac{\\partial J_t}{\\partial W^{(o)}}$\n",
    "\n",
    "$\\frac{\\partial J}{\\partial W^{(o)}} = \\sum_t^3 ~\\big(\\frac{\\partial f(~x_t~W^{(i)} + ~h_{t-1}~W^{(h)})~W^{(o)}}{\\partial W^{(o)}}\\big)^T~\\frac{\\partial J_t}{\\partial \\hat{y}} ~\\frac{\\partial \\hat{y}}{\\partial f(~x_t~W^{(i)} + ~h_{t-1}~W^{(h)}) ~W^{(o)}} = \\sum_t^3 ~f(~x_t~W^{(i)} + ~h_{t-1}~W^{(h)})^T~\\frac{\\partial J_t}{\\partial s}$"
   ]
  },
  {
   "cell_type": "code",
   "execution_count": 25,
   "metadata": {
    "collapsed": false,
    "slideshow": {
     "slide_type": "slide"
    }
   },
   "outputs": [
    {
     "name": "stdout",
     "output_type": "stream",
     "text": [
      "2.884558391813008\n"
     ]
    }
   ],
   "source": [
    "# your code here:"
   ]
  },
  {
   "cell_type": "code",
   "execution_count": 26,
   "metadata": {
    "collapsed": false,
    "slideshow": {
     "slide_type": "slide"
    }
   },
   "outputs": [
    {
     "name": "stdout",
     "output_type": "stream",
     "text": [
      "You You trees You trees You trees You trees You "
     ]
    }
   ],
   "source": [
    "tickle_indices = [word_to_i[\"I\"],word_to_i[\"trees\"]] + 1 # one corrects for the zero-base indexing\n",
    "# using the word embeddings\n",
    "tickles = zeros(size(tickle_indices)[1],D)\n",
    "for i=1:size(tickle_indices)[1]\n",
    "    \n",
    "    tickles[i,:] = W_embeddings[floor(Int,tickle_indices[i]),:]\n",
    "    \n",
    "end\n",
    "\n",
    "# desired total length of sentence generated:\n",
    "S_length = 10\n",
    "\n",
    "# initialize hidden state\n",
    "h_prev = zeros(1,size(W_h)[1])\n",
    "\n",
    "# this loop tickles the RNN\n",
    "sentence = zeros(S_length, 1)\n",
    "for t = 1:size(tickle_indices)[1]\n",
    "    \n",
    "    h_now = tanh(reshape(tickles[t,:],1,D) * W_i + h_prev * W_h)\n",
    "    scores = h_now * W_o\n",
    "    y_hat = exp(scores)./sum(exp(scores))\n",
    "    mxval, mxindx = findmax(y_hat)\n",
    "    sentence[t,1] = mxindx\n",
    "    \n",
    "    h_prev = h_now\n",
    "end\n",
    "\n",
    "# this loop keeps the RNN going even after the tickles have ended\n",
    "for t = size(tickles)[1]:S_length\n",
    "    \n",
    "    h_now = tanh(h_prev * W_h)\n",
    "    scores = h_now * W_o\n",
    "    y_hat = exp(scores)./sum(exp(scores))\n",
    "    mxval, mxindx = findmax(y_hat)\n",
    "    sentence[t,1] = mxindx\n",
    "    \n",
    "    h_prev = h_now\n",
    "end\n",
    "\n",
    "# this loops turns the indices stored in the \"sentence\" array into human-readable words\n",
    "for t=1:S_length\n",
    "\n",
    "    print(i_to_word[sentence[t]-1])\n",
    "    print(' ')\n",
    "    \n",
    "end"
   ]
  },
  {
   "cell_type": "markdown",
   "metadata": {
    "slideshow": {
     "slide_type": "slide"
    }
   },
   "source": [
    "To make this even better we will have to backpropagate $\\frac{\\partial J}{\\partial W^{(h)}}$ and $\\frac{\\partial J}{\\partial W^{(i)}}$ too (remember that in this example $T = 3$):\n",
    "\n",
    "$\\frac{\\partial J}{\\partial W^{(h)}} = \\sum_t^3 ~\\big(\\frac{\\partial f(~x_t~W^{(i)} + ~h_{t-1}~W^{(h)})~W^{(o)}}{\\partial W^{(h)}}\\big)^T~\\frac{\\partial J_t}{\\partial f(~x_t~W^{(i)} + ~h_{t-1}~W^{(h)}) ~W^{(o)}}$"
   ]
  },
  {
   "cell_type": "markdown",
   "metadata": {},
   "source": [
    "$\\sum_t^3 ~\\big(\\frac{\\partial f(~x_t~W^{(i)} + ~h_{t-1}~W^{(h)})~W^{(o)}}{\\partial f(~x_t~W^{(i)} + ~h_{t-1}~W^{(h)})}~\\frac{\\partial f(~x_t~W^{(i)} + ~h_{t-1}~W^{(h)})}{\\partial W^{(h)}}\\big)^T~\\frac{\\partial J_t}{\\partial f(~x_t~W^{(i)} + ~h_{t-1}~W^{(h)}) ~W^{(o)}}$\n",
    "$\\sum_t^3 ~\\big(\\frac{\\partial f(~x_t~W^{(i)} + ~h_{t-1}~W^{(h)})~W^{(o)}}{\\partial f(~x_t~W^{(i)} + ~h_{t-1}~W^{(h)})}~\\frac{\\partial f(~x_t~W^{(i)} + ~h_{t-1}~W^{(h)})}{\\partial ~x_t~W^{(i)} + ~h_{t-1}~W^{(h)}}\\frac{\\partial ~x_t~W^{(i)} + ~h_{t-1}~W^{(h)}}{\\partial W^{(h)}}\\big)^T~\\frac{\\partial J_t}{\\partial f(~x_t~W^{(i)} + ~h_{t-1}~W^{(h)}) ~W^{(o)}}$"
   ]
  },
  {
   "cell_type": "code",
   "execution_count": 74,
   "metadata": {
    "collapsed": false,
    "slideshow": {
     "slide_type": "slide"
    }
   },
   "outputs": [
    {
     "name": "stdout",
     "output_type": "stream",
     "text": [
      "0.22505941640715427\n"
     ]
    }
   ],
   "source": [
    "# [your code here:]"
   ]
  },
  {
   "cell_type": "code",
   "execution_count": 75,
   "metadata": {
    "collapsed": false,
    "slideshow": {
     "slide_type": "slide"
    }
   },
   "outputs": [
    {
     "name": "stdout",
     "output_type": "stream",
     "text": [
      "got You <start> the got idea man You <start> walk "
     ]
    }
   ],
   "source": [
    "tickle_indices = [word_to_i[\"I\"],word_to_i[\"trees\"]] + 1 # one corrects for the zero-base indexing\n",
    "# using the word embeddings\n",
    "tickles = zeros(size(tickle_indices)[1],D)\n",
    "for i=1:size(tickle_indices)[1]\n",
    "    \n",
    "    tickles[i,:] = W_embeddings[floor(Int,tickle_indices[i]),:]\n",
    "    \n",
    "end\n",
    "\n",
    "# desired total length of sentence generated:\n",
    "S_length = 10\n",
    "\n",
    "# initialize hidden state\n",
    "h_prev = zeros(1,size(W_h)[1])\n",
    "\n",
    "# this loop tickles the RNN\n",
    "sentence = zeros(S_length, 1)\n",
    "for t = 1:size(tickle_indices)[1]\n",
    "    \n",
    "    h_now = tanh(reshape(tickles[t,:],1,D) * W_i + h_prev * W_h)\n",
    "    scores = h_now * W_o\n",
    "    y_hat = exp(scores)./sum(exp(scores))\n",
    "    mxval, mxindx = findmax(y_hat)\n",
    "    sentence[t,1] = mxindx\n",
    "    \n",
    "    h_prev = h_now\n",
    "end\n",
    "\n",
    "# this loop keeps the RNN going even after the tickles have ended\n",
    "for t = size(tickles)[1]:S_length\n",
    "    \n",
    "    h_now = tanh(h_prev * W_h)\n",
    "    scores = h_now * W_o\n",
    "    y_hat = exp(scores)./sum(exp(scores))\n",
    "    mxval, mxindx = findmax(y_hat)\n",
    "    sentence[t,1] = mxindx\n",
    "    \n",
    "    h_prev = h_now\n",
    "end\n",
    "\n",
    "# this loops turns the indices stored in the \"sentence\" array into human-readable words\n",
    "for t=1:S_length\n",
    "\n",
    "    print(i_to_word[sentence[t]-1])\n",
    "    print(' ')\n",
    "    \n",
    "end"
   ]
  }
 ],
 "metadata": {
  "celltoolbar": "Slideshow",
  "kernelspec": {
   "display_name": "Julia 0.5.2",
   "language": "julia",
   "name": "julia-0.5"
  },
  "language_info": {
   "file_extension": ".jl",
   "mimetype": "application/julia",
   "name": "julia",
   "version": "0.5.2"
  }
 },
 "nbformat": 4,
 "nbformat_minor": 2
}

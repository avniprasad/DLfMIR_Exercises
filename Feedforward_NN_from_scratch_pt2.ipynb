{
 "cells": [
  {
   "cell_type": "markdown",
   "metadata": {
    "collapsed": true,
    "slideshow": {
     "slide_type": "slide"
    }
   },
   "source": [
    "# Feedforward Neural Networks (pt. 2) #\n",
    "<img align=\"left\" src=\"https://upload.wikimedia.org/wikipedia/commons/thumb/4/46/Colored_neural_network.svg/300px-Colored_neural_network.svg.png\" />"
   ]
  },
  {
   "cell_type": "markdown",
   "metadata": {
    "slideshow": {
     "slide_type": "slide"
    }
   },
   "source": [
    "In the previous section, we built a softmax classifier with the objective function: $$J = minimize\\{-log(\\hat{y}_{correct})\\}$$\n",
    "\n",
    "Where $\\hat{y}_{correct} \\in \\hat{y}$ and $\\hat{y} = softmax(x~W)$"
   ]
  },
  {
   "cell_type": "markdown",
   "metadata": {
    "slideshow": {
     "slide_type": "slide"
    }
   },
   "source": [
    "So far, the forward pipeline is as follows:\n",
    "\n",
    "1. Multiply your input $x$ by the matrix $W$ to obtain the scores (call them $s$) for each class.\n",
    "2. Compute $softmax(s)$ to obtain $\\hat{y}$ (the \"probabilities\" for each class).\n",
    "3. Compute the cross entropy objective (commonly known as the \"cross entropy loss\")"
   ]
  },
  {
   "cell_type": "markdown",
   "metadata": {
    "slideshow": {
     "slide_type": "slide"
    }
   },
   "source": [
    "The backward pipeline, applied to train the classifier using gradient descent, is as follows:\n",
    "\n",
    "1. Compute the gradient of the objective function w.r.t. the \"trainable\" parameters stored in $W$.\n",
    "2. Update the parameters using the gradients computed.\n",
    "\n",
    "We can easily transform this into a Neural Network by adding a \"hidden layer\" between the input $x$ and the step where we compute the scores. Everything else would remain the same."
   ]
  },
  {
   "cell_type": "markdown",
   "metadata": {
    "slideshow": {
     "slide_type": "slide"
    }
   },
   "source": [
    "The forward pipeline would now look as follows:\n",
    "\n",
    "1. Multiply your input $x$ by the matrix $W^{(h)} \\in \\mathbf{R^{DxH}}$ (where $(h)$ is only an identifier for the matrix, and $\\mathbf{H}$ is the number of columns) to obtain the hidden state $h \\in \\mathbf{R^{1xH}}$.\n",
    "1. Multiply your hidden state $h$ by the output matrix $W^{(o)} \\in \\mathbf{R^{HxC}}$ (where $(o)$ is only an identifier for the matrix) to obtain the scores $s$ for each class.\n",
    "2. Compute $softmax(s)$ to obtain $\\hat{y}$ (the \"probabilities\" for each class).\n",
    "3. Compute the cross entropy objective (commonly known as the \"cross entropy loss\")\n",
    "\n",
    "So the objective looks exacty the same, but $\\hat{y}$ now is:\n",
    "$\\hat{y} = softmax(x~W^{(h)}~W^{(o)})$"
   ]
  },
  {
   "cell_type": "markdown",
   "metadata": {
    "slideshow": {
     "slide_type": "slide"
    }
   },
   "source": [
    "The backward pipeline, applied to train the classifier using gradient descent, is as follows:\n",
    "\n",
    "1. Compute the gradient of the objective function w.r.t. the \"trainable\" parameters in $W^{(h)}$ and $W^{(o)}$.\n",
    "2. Update the parameters using the gradients computed."
   ]
  },
  {
   "cell_type": "markdown",
   "metadata": {
    "slideshow": {
     "slide_type": "slide"
    }
   },
   "source": [
    "As you can see, now we will have to compute two gradients:\n",
    "\n",
    "$\\frac{\\partial J}{\\partial W^{(h)}}$\n",
    "\n",
    "$\\frac{\\partial J}{\\partial W^{(o)}}$"
   ]
  },
  {
   "cell_type": "markdown",
   "metadata": {
    "slideshow": {
     "slide_type": "slide"
    }
   },
   "source": [
    "These gradients would be similar to the ones we calculated previously (note that the scores $s$ now are $s=~x ~W^{(h)} ~W^{(o)}$):\n",
    "\n",
    "$\\frac{\\partial J }{\\partial W^{(h)}} = ~\\big(\\frac{\\partial ~x ~W^{(h)} ~W^{(o)}}{\\partial W^{(h)}}\\big)^T~\\frac{\\partial J}{\\partial \\hat{y}} ~\\frac{\\partial \\hat{y}}{\\partial ~x ~W^{(h)} ~W^{(o)}} = ~\\big(\\frac{\\partial ~x ~W^{(h)} ~W^{(o)}}{\\partial W^{(h)}}\\big)^T~\\frac{\\partial J}{\\partial s} = \\big(x^T~\\frac{\\partial J}{\\partial s}\\big) ~\\big(W^{(o)}\\big)^T$\n",
    "\n",
    "$\\frac{\\partial J }{\\partial W^{(o)}} = ~\\big(\\frac{\\partial ~x ~W^{(h)} ~W^{(o)}}{\\partial W^{(o)}}\\big)^T~\\frac{\\partial J}{\\partial \\hat{y}} ~\\frac{\\partial \\hat{y}}{\\partial ~x ~W^{(h)} ~W^{(o)}} = ~\\big(\\frac{\\partial ~x ~W^{(h)} ~W^{(o)}}{\\partial W^{(o)}}\\big)^T ~\\frac{\\partial J}{\\partial s} = \\bigg(~\\big(W^{(h)}\\big)^T~x^T\\bigg)~\\frac{\\partial J}{\\partial s}$"
   ]
  },
  {
   "cell_type": "markdown",
   "metadata": {
    "slideshow": {
     "slide_type": "slide"
    }
   },
   "source": [
    "And an update step in the direction that maximizes the value of the objective function would be:\n",
    "\n",
    "$W^{(o)} := ~W^{(o)} + ~\\alpha~\\frac{\\partial J }{\\partial W^{(o)}}$\n",
    "\n",
    "$W^{(h)} := ~W^{(h)} + ~\\alpha~\\frac{\\partial J }{\\partial W^{(h)}}$\n",
    "\n",
    "Where $\\alpha$ is a tunable free parameter better known as the \"learning rate\""
   ]
  },
  {
   "cell_type": "markdown",
   "metadata": {
    "slideshow": {
     "slide_type": "slide"
    }
   },
   "source": [
    "Modify your previous program so that this time we have a Neural Network with a hidden layer (you'll first have to reuse code that generates \"fake\" data)\n",
    "\n",
    "Experiment with changing the $\\alpha$ parameter. What else could you experiment with? (i.e. what are your \"tunable\" hyperparameters?)"
   ]
  },
  {
   "cell_type": "code",
   "execution_count": 2,
   "metadata": {
    "collapsed": true,
    "slideshow": {
     "slide_type": "slide"
    }
   },
   "outputs": [],
   "source": [
    "# [your code to generate and organize data here:]"
   ]
  },
  {
   "cell_type": "code",
   "execution_count": 9,
   "metadata": {
    "collapsed": false,
    "slideshow": {
     "slide_type": "slide"
    }
   },
   "outputs": [
    {
     "data": {
      "image/png": "[encoded data removed]",
      "text/plain": [
       "PyPlot.Figure(PyObject <matplotlib.figure.Figure object at 0x7ff811bbe610>)"
      ]
     },
     "metadata": {},
     "output_type": "display_data"
    },
    {
     "data": {
      "text/plain": [
       "1-element Array{Any,1}:\n",
       " PyObject <matplotlib.lines.Line2D object at 0x7ff811a8c250>"
      ]
     },
     "execution_count": 9,
     "metadata": {},
     "output_type": "execute_result"
    }
   ],
   "source": [
    "# [your code Neural Network code here:]"
   ]
  },
  {
   "cell_type": "markdown",
   "metadata": {
    "slideshow": {
     "slide_type": "slide"
    }
   },
   "source": [
    "What did you notice? What effect did tuning of hyperparameters have?\n",
    "\n",
    "What makes this a good/bad/better/worse way to make a Neural Network Learn? How can we make it better?\n",
    "\n",
    "Highlight observation with a group of classmates and be prepared to share with the class. "
   ]
  },
  {
   "cell_type": "markdown",
   "metadata": {
    "slideshow": {
     "slide_type": "slide"
    }
   },
   "source": [
    "The next logical step would be to add a non-linear function $f()$ right before reaching the hidden layer. This is in fact very common practice. The model would then compute $\\hat{y}$ like this:\n",
    "\n",
    "$$\\hat{y} = softmax( ~f(x~W^{(h)})~W^{(o)})$$\n",
    "\n",
    "There is a whole collection of different non-linearities that you can use. In fact, people have gotten graduate degrees carrying research aimed at finding the best non-linearities that solve different problems."
   ]
  },
  {
   "cell_type": "markdown",
   "metadata": {
    "slideshow": {
     "slide_type": "slide"
    }
   },
   "source": [
    "In practice, common non-linearities are:\n",
    "\n",
    "* $\\sigma(\\theta)$ (the [sigmoid function](https://en.wikipedia.org/wiki/Sigmoid_function))\n",
    "* $\\tanh(\\theta)$ (the [hyperbolic tangent](http://reference.wolfram.com/language/ref/Tanh.html.en))\n",
    "* $\\text{ReLU}(\\theta) = f(\\theta)=\\max(0,\\theta)$ (the Rectified Linear Unit)"
   ]
  },
  {
   "cell_type": "markdown",
   "metadata": {
    "slideshow": {
     "slide_type": "slide"
    }
   },
   "source": [
    "For the purposes of this notebook we will focus on the first two, but feel free to experiment with any non-linearities you would like to. \n",
    "\n",
    "You can imagine that other side of the coin when adding a non-linearity to a Neural Network is knowing its derivative. \n",
    "\n",
    "Thankfully, the derivatives for $\\sigma(\\theta)$ and $\\tanh(\\theta)$ w.r.t $\\theta$ are relatively simple:\n",
    "\n",
    "$$\\frac{\\partial \\sigma(\\theta)}{\\partial \\theta} = \\sigma(\\theta)(1-\\sigma(\\theta)) $$\n",
    "\n",
    "$$\\frac{\\partial \\tanh(\\theta)}{\\partial \\theta} = 1-\\tanh^2(\\theta)$$"
   ]
  },
  {
   "cell_type": "markdown",
   "metadata": {
    "slideshow": {
     "slide_type": "slide"
    }
   },
   "source": [
    "As a case study, let's assume that we pick the sigmoid $\\sigma(\\theta)$ non-linearity to obtain the following expression:\n",
    "\n",
    "$$\\hat{y} = softmax( ~\\sigma(x~W^{(h)})~W^{(o)})$$"
   ]
  },
  {
   "cell_type": "markdown",
   "metadata": {
    "slideshow": {
     "slide_type": "slide"
    }
   },
   "source": [
    "The derivative of the cost function w.r.t parameters $W^{(h)}$ and $W^{(o)}$ would be:\n",
    "\n",
    "$\\frac{\\partial J }{\\partial W^{(o)}} = ~\\big(\\frac{\\partial \\sigma(~x~W^{(h)})~W^{(o)}}{\\partial W^{(o)}}\\big)^T~\\frac{\\partial J}{\\partial \\hat{y}} ~\\frac{\\partial \\hat{y}}{\\partial ~x ~W^{(h)} ~W^{(o)}} = ~\\sigma(~x~W^{(h)})^T~\\frac{\\partial J}{\\partial s}$\n",
    "\n",
    "\n",
    "\n",
    "$\\frac{\\partial J }{\\partial W^{(h)}} = ~\\big(\\frac{\\partial \\sigma(~x~W^{(h)})~W^{(o)}}{\\partial W^{(h)}}\\big)^T~\\frac{\\partial J}{\\partial \\hat{y}} ~\\frac{\\partial \\hat{y}}{\\partial ~x ~W^{(h)} ~W^{(o)}} = ~\\big(\\frac{\\partial \\sigma(~x~W^{(h)})~W^{(o)}}{\\partial W^{(h)}}\\big)^T~\\frac{\\partial J}{\\partial s} =\n",
    "x^T\\bigg(\\big( \\sigma(~x~W^{(h)})(1-\\sigma(~x~W^{(h)})) \\big) \\circ \\big(~\\frac{\\partial J}{\\partial s} ~(W^{(o)})^T\\big)\\bigg)$\n",
    "\n",
    "where $\\circ$ indicates the element-wise multiplication of two arrays."
   ]
  },
  {
   "cell_type": "markdown",
   "metadata": {
    "slideshow": {
     "slide_type": "slide"
    }
   },
   "source": [
    "Modify your previous program so that this time we have a Neural Network with a hidden layer and non-linear sigmoid gating.\n",
    "\n",
    "Julia doesn't have a sigmoid function, so you'll have to write your own.\n",
    "\n",
    "Experiment tuning your hyperparameters. Also, have you tried changing the initialization of the $W^{(h)}$ and the $W^{(o)}$ matrices? Would that matter at all?"
   ]
  },
  {
   "cell_type": "code",
   "execution_count": 15,
   "metadata": {
    "collapsed": false,
    "slideshow": {
     "slide_type": "slide"
    }
   },
   "outputs": [
    {
     "data": {
      "image/png": "[encoded data removed]",
      "text/plain": [
       "PyPlot.Figure(PyObject <matplotlib.figure.Figure object at 0x7fae7e717c10>)"
      ]
     },
     "metadata": {},
     "output_type": "display_data"
    },
    {
     "name": "stderr",
     "output_type": "stream",
     "text": [
      "WARNING: Method definition sigmoid(Any) in module Main at In[14]:8 overwritten at In[15]:8.\n"
     ]
    },
    {
     "data": {
      "text/plain": [
       "1-element Array{Any,1}:\n",
       " PyObject <matplotlib.lines.Line2D object at 0x7fae7e6cbfd0>"
      ]
     },
     "execution_count": 15,
     "metadata": {},
     "output_type": "execute_result"
    }
   ],
   "source": [
    "# [your code here:]"
   ]
  },
  {
   "cell_type": "markdown",
   "metadata": {
    "slideshow": {
     "slide_type": "slide"
    }
   },
   "source": [
    "That's it! You have built a Neural Network from scratch.\n",
    "\n",
    "Feel free to experiment with other non-linearities, adding more hidden layers (even with different non-linearities), and tuning your hyperparameters.\n",
    "\n",
    "Congratulations!"
   ]
  }
 ],
 "metadata": {
  "celltoolbar": "Slideshow",
  "kernelspec": {
   "display_name": "Julia 0.5.2",
   "language": "julia",
   "name": "julia-0.5"
  },
  "language_info": {
   "file_extension": ".jl",
   "mimetype": "application/julia",
   "name": "julia",
   "version": "0.5.2"
  }
 },
 "nbformat": 4,
 "nbformat_minor": 2
}

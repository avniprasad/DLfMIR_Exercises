{
 "cells": [
  {
   "cell_type": "markdown",
   "metadata": {},
   "source": [
    "# word2vec challenge #\n",
    "\n",
    "The challenge is to improve the word2vec model that we developed in the previous notebook.\n",
    "\n",
    "Read the original paper for inpiration and ideas to make the word2vec model better: [word2vec](https://papers.nips.cc/paper/5021-distributed-representations-of-words-and-phrases-and-their-compositionality.pdf)\n",
    "\n",
    "Some ideas to improve:\n",
    "\n",
    "* Train using the entire vocabulary/dataset\n",
    "* Include an \"unknown\" token and split data into valdiation and test sets\n",
    "* Implement negative sampling\n",
    "* Implement more efficient versions of softmax\n",
    "* experiment with different dimensionality reductions (TSNE, PCA) applied to your `W_h` matrix.\n",
    "* anything else you can think of\n",
    "\n",
    "Assessment of performance for this models is more open-ended. Submit your scatter plots of word embeddings in a notebook that explains what you implemented/achieved."
   ]
  }
 ],
 "metadata": {
  "kernelspec": {
   "display_name": "Python 2",
   "language": "python",
   "name": "python2"
  },
  "language_info": {
   "codemirror_mode": {
    "name": "ipython",
    "version": 2
   },
   "file_extension": ".py",
   "mimetype": "text/x-python",
   "name": "python",
   "nbconvert_exporter": "python",
   "pygments_lexer": "ipython2",
   "version": "2.7.11"
  }
 },
 "nbformat": 4,
 "nbformat_minor": 2
}
